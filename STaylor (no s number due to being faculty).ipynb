{
 "cells": [
  {
   "cell_type": "markdown",
   "id": "df481d44",
   "metadata": {},
   "source": [
    "Sara Taylor"
   ]
  },
  {
   "cell_type": "code",
   "execution_count": 18,
   "id": "929d2375",
   "metadata": {},
   "outputs": [
    {
     "name": "stdout",
     "output_type": "stream",
     "text": [
      "*               * \n",
      "* *           * * \n",
      "* * *       * * * \n",
      "* * * *   * * * * \n"
     ]
    }
   ],
   "source": [
    "n=4\n",
    "for i in range (n):\n",
    "    for j in range (i+1):\n",
    "        print ('*', end =' ')\n",
    "    for j in range (i,n-1):\n",
    "        print (' ', end=' ')\n",
    "    for j in range (i,n):\n",
    "        print (' ', end=' ')\n",
    "    for j in range (i+1):\n",
    "        print ('*', end =' ')\n",
    "    print()\n",
    "   "
   ]
  }
 ],
 "metadata": {
  "kernelspec": {
   "display_name": "Python 3 (ipykernel)",
   "language": "python",
   "name": "python3"
  },
  "language_info": {
   "codemirror_mode": {
    "name": "ipython",
    "version": 3
   },
   "file_extension": ".py",
   "mimetype": "text/x-python",
   "name": "python",
   "nbconvert_exporter": "python",
   "pygments_lexer": "ipython3",
   "version": "3.9.16"
  }
 },
 "nbformat": 4,
 "nbformat_minor": 5
}
